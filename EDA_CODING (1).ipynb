{
 "cells": [
  {
   "cell_type": "code",
   "execution_count": 1,
   "metadata": {
    "colab": {
     "base_uri": "https://localhost:8080/"
    },
    "executionInfo": {
     "elapsed": 16541,
     "status": "ok",
     "timestamp": 1740338525978,
     "user": {
      "displayName": "Mahmoud Shawki",
      "userId": "09576335414561283234"
     },
     "user_tz": -120
    },
    "id": "2ciA8gsdO4N-",
    "outputId": "4c5246f4-b2c1-4700-a17f-f1a53fa7d52d"
   },
   "outputs": [
    {
     "name": "stdout",
     "output_type": "stream",
     "text": [
      "Requirement already satisfied: gdown in /usr/local/lib/python3.11/dist-packages (5.2.0)\n",
      "Requirement already satisfied: beautifulsoup4 in /usr/local/lib/python3.11/dist-packages (from gdown) (4.13.3)\n",
      "Requirement already satisfied: filelock in /usr/local/lib/python3.11/dist-packages (from gdown) (3.17.0)\n",
      "Requirement already satisfied: requests[socks] in /usr/local/lib/python3.11/dist-packages (from gdown) (2.32.3)\n",
      "Requirement already satisfied: tqdm in /usr/local/lib/python3.11/dist-packages (from gdown) (4.67.1)\n",
      "Requirement already satisfied: soupsieve>1.2 in /usr/local/lib/python3.11/dist-packages (from beautifulsoup4->gdown) (2.6)\n",
      "Requirement already satisfied: typing-extensions>=4.0.0 in /usr/local/lib/python3.11/dist-packages (from beautifulsoup4->gdown) (4.12.2)\n",
      "Requirement already satisfied: charset-normalizer<4,>=2 in /usr/local/lib/python3.11/dist-packages (from requests[socks]->gdown) (3.4.1)\n",
      "Requirement already satisfied: idna<4,>=2.5 in /usr/local/lib/python3.11/dist-packages (from requests[socks]->gdown) (3.10)\n",
      "Requirement already satisfied: urllib3<3,>=1.21.1 in /usr/local/lib/python3.11/dist-packages (from requests[socks]->gdown) (2.3.0)\n",
      "Requirement already satisfied: certifi>=2017.4.17 in /usr/local/lib/python3.11/dist-packages (from requests[socks]->gdown) (2025.1.31)\n",
      "Requirement already satisfied: PySocks!=1.5.7,>=1.5.6 in /usr/local/lib/python3.11/dist-packages (from requests[socks]->gdown) (1.7.1)\n"
     ]
    },
    {
     "name": "stderr",
     "output_type": "stream",
     "text": [
      "Downloading...\n",
      "From: https://drive.google.com/uc?id=1f8ej0H97iqzXAerXkD-vBrJwlfiwqOMI\n",
      "To: /content/test.csv\n",
      "100%|██████████| 10.8M/10.8M [00:00<00:00, 52.3MB/s]\n",
      "Downloading...\n",
      "From: https://drive.google.com/uc?id=1qO-5YDTbM2umL9b-HxunNy77IAOKqGCZ\n",
      "To: /content/train.csv\n",
      "100%|██████████| 26.9M/26.9M [00:00<00:00, 69.3MB/s]\n"
     ]
    }
   ],
   "source": [
    "!pip install gdown\n",
    "import gdown\n",
    "\n",
    "\n",
    "file_ids = [\n",
    "    \"1f8ej0H97iqzXAerXkD-vBrJwlfiwqOMI\",\n",
    "    \"1qO-5YDTbM2umL9b-HxunNy77IAOKqGCZ\"\n",
    "]\n",
    "\n",
    "for file_id in file_ids:\n",
    "    gdown.download(f\"https://drive.google.com/uc?id={file_id}\", quiet=False)\n"
   ]
  },
  {
   "cell_type": "code",
   "execution_count": 2,
   "metadata": {
    "colab": {
     "base_uri": "https://localhost:8080/"
    },
    "executionInfo": {
     "elapsed": 11,
     "status": "ok",
     "timestamp": 1740338584551,
     "user": {
      "displayName": "Mahmoud Shawki",
      "userId": "09576335414561283234"
     },
     "user_tz": -120
    },
    "id": "0Q3RqQZOQrr7",
    "outputId": "dd45cf00-cb23-410f-d46f-d382b9210dbd"
   },
   "outputs": [
    {
     "name": "stdout",
     "output_type": "stream",
     "text": [
      "['.config', 'test.csv', 'train.csv', 'sample_data']\n"
     ]
    }
   ],
   "source": [
    "import os\n",
    "print(os.listdir())"
   ]
  },
  {
   "cell_type": "code",
   "execution_count": 9,
   "metadata": {
    "executionInfo": {
     "elapsed": 6,
     "status": "ok",
     "timestamp": 1740340081337,
     "user": {
      "displayName": "Mahmoud Shawki",
      "userId": "09576335414561283234"
     },
     "user_tz": -120
    },
    "id": "4k5Ym5KiWgh0"
   },
   "outputs": [],
   "source": [
    "import pandas as pd"
   ]
  },
  {
   "cell_type": "code",
   "execution_count": 10,
   "metadata": {
    "executionInfo": {
     "elapsed": 908,
     "status": "ok",
     "timestamp": 1740340119170,
     "user": {
      "displayName": "Mahmoud Shawki",
      "userId": "09576335414561283234"
     },
     "user_tz": -120
    },
    "id": "iY4WE7VqWj_j"
   },
   "outputs": [],
   "source": [
    "df_train = pd.read_csv('/content/train.csv')  # استبدل بالاسم الفعلي للملف إن كان مختلفًا\n",
    "df_test = pd.read_csv('/content/test.csv')"
   ]
  },
  {
   "cell_type": "code",
   "execution_count": 11,
   "metadata": {
    "colab": {
     "base_uri": "https://localhost:8080/"
    },
    "executionInfo": {
     "elapsed": 234,
     "status": "ok",
     "timestamp": 1740340144252,
     "user": {
      "displayName": "Mahmoud Shawki",
      "userId": "09576335414561283234"
     },
     "user_tz": -120
    },
    "id": "cozLcIQLWtc0",
    "outputId": "a13bcd6f-e584-4628-d19c-338673a86748"
   },
   "outputs": [
    {
     "name": "stdout",
     "output_type": "stream",
     "text": [
      "Train Dataset Overview:\n",
      "<class 'pandas.core.frame.DataFrame'>\n",
      "RangeIndex: 318438 entries, 0 to 318437\n",
      "Data columns (total 18 columns):\n",
      " #   Column                             Non-Null Count   Dtype  \n",
      "---  ------                             --------------   -----  \n",
      " 0   case_id                            318438 non-null  int64  \n",
      " 1   Hospital_code                      318438 non-null  int64  \n",
      " 2   Hospital_type_code                 318438 non-null  object \n",
      " 3   City_Code_Hospital                 318438 non-null  int64  \n",
      " 4   Hospital_region_code               318438 non-null  object \n",
      " 5   Available Extra Rooms in Hospital  318438 non-null  int64  \n",
      " 6   Department                         318438 non-null  object \n",
      " 7   Ward_Type                          318438 non-null  object \n",
      " 8   Ward_Facility_Code                 318438 non-null  object \n",
      " 9   Bed Grade                          318325 non-null  float64\n",
      " 10  patientid                          318438 non-null  int64  \n",
      " 11  City_Code_Patient                  313906 non-null  float64\n",
      " 12  Type of Admission                  318438 non-null  object \n",
      " 13  Severity of Illness                318438 non-null  object \n",
      " 14  Visitors with Patient              318438 non-null  int64  \n",
      " 15  Age                                318438 non-null  object \n",
      " 16  Admission_Deposit                  318438 non-null  float64\n",
      " 17  Stay                               318438 non-null  object \n",
      "dtypes: float64(3), int64(6), object(9)\n",
      "memory usage: 43.7+ MB\n",
      "None\n",
      "\n",
      "Test Dataset Overview:\n",
      "<class 'pandas.core.frame.DataFrame'>\n",
      "RangeIndex: 137057 entries, 0 to 137056\n",
      "Data columns (total 17 columns):\n",
      " #   Column                             Non-Null Count   Dtype  \n",
      "---  ------                             --------------   -----  \n",
      " 0   case_id                            137057 non-null  int64  \n",
      " 1   Hospital_code                      137057 non-null  int64  \n",
      " 2   Hospital_type_code                 137057 non-null  object \n",
      " 3   City_Code_Hospital                 137057 non-null  int64  \n",
      " 4   Hospital_region_code               137057 non-null  object \n",
      " 5   Available Extra Rooms in Hospital  137057 non-null  int64  \n",
      " 6   Department                         137057 non-null  object \n",
      " 7   Ward_Type                          137057 non-null  object \n",
      " 8   Ward_Facility_Code                 137057 non-null  object \n",
      " 9   Bed Grade                          137022 non-null  float64\n",
      " 10  patientid                          137057 non-null  int64  \n",
      " 11  City_Code_Patient                  134900 non-null  float64\n",
      " 12  Type of Admission                  137057 non-null  object \n",
      " 13  Severity of Illness                137057 non-null  object \n",
      " 14  Visitors with Patient              137057 non-null  int64  \n",
      " 15  Age                                137057 non-null  object \n",
      " 16  Admission_Deposit                  137057 non-null  float64\n",
      "dtypes: float64(3), int64(6), object(8)\n",
      "memory usage: 17.8+ MB\n",
      "None\n"
     ]
    }
   ],
   "source": [
    "print(\"Train Dataset Overview:\")\n",
    "print(df_train.info())\n",
    "\n",
    "print(\"\\nTest Dataset Overview:\")\n",
    "print(df_test.info())"
   ]
  },
  {
   "cell_type": "code",
   "execution_count": 12,
   "metadata": {
    "colab": {
     "base_uri": "https://localhost:8080/"
    },
    "executionInfo": {
     "elapsed": 36,
     "status": "ok",
     "timestamp": 1740340182466,
     "user": {
      "displayName": "Mahmoud Shawki",
      "userId": "09576335414561283234"
     },
     "user_tz": -120
    },
    "id": "odC7IKSKW0PT",
    "outputId": "5dd9c5fd-a67f-46b0-92ad-d580f89e2e6b"
   },
   "outputs": [
    {
     "name": "stdout",
     "output_type": "stream",
     "text": [
      "\n",
      "First 5 rows of Train Dataset:\n",
      "   case_id  Hospital_code Hospital_type_code  City_Code_Hospital  \\\n",
      "0        1              8                  c                   3   \n",
      "1        2              2                  c                   5   \n",
      "2        3             10                  e                   1   \n",
      "3        4             26                  b                   2   \n",
      "4        5             26                  b                   2   \n",
      "\n",
      "  Hospital_region_code  Available Extra Rooms in Hospital    Department  \\\n",
      "0                    Z                                  3  radiotherapy   \n",
      "1                    Z                                  2  radiotherapy   \n",
      "2                    X                                  2    anesthesia   \n",
      "3                    Y                                  2  radiotherapy   \n",
      "4                    Y                                  2  radiotherapy   \n",
      "\n",
      "  Ward_Type Ward_Facility_Code  Bed Grade  patientid  City_Code_Patient  \\\n",
      "0         R                  F        2.0      31397                7.0   \n",
      "1         S                  F        2.0      31397                7.0   \n",
      "2         S                  E        2.0      31397                7.0   \n",
      "3         R                  D        2.0      31397                7.0   \n",
      "4         S                  D        2.0      31397                7.0   \n",
      "\n",
      "  Type of Admission Severity of Illness  Visitors with Patient    Age  \\\n",
      "0         Emergency             Extreme                      2  51-60   \n",
      "1            Trauma             Extreme                      2  51-60   \n",
      "2            Trauma             Extreme                      2  51-60   \n",
      "3            Trauma             Extreme                      2  51-60   \n",
      "4            Trauma             Extreme                      2  51-60   \n",
      "\n",
      "   Admission_Deposit   Stay  \n",
      "0             4911.0   0-10  \n",
      "1             5954.0  41-50  \n",
      "2             4745.0  31-40  \n",
      "3             7272.0  41-50  \n",
      "4             5558.0  41-50  \n",
      "\n",
      "First 5 rows of Test Dataset:\n",
      "   case_id  Hospital_code Hospital_type_code  City_Code_Hospital  \\\n",
      "0   318439             21                  c                   3   \n",
      "1   318440             29                  a                   4   \n",
      "2   318441             26                  b                   2   \n",
      "3   318442              6                  a                   6   \n",
      "4   318443             28                  b                  11   \n",
      "\n",
      "  Hospital_region_code  Available Extra Rooms in Hospital  Department  \\\n",
      "0                    Z                                  3  gynecology   \n",
      "1                    X                                  2  gynecology   \n",
      "2                    Y                                  3  gynecology   \n",
      "3                    X                                  3  gynecology   \n",
      "4                    X                                  2  gynecology   \n",
      "\n",
      "  Ward_Type Ward_Facility_Code  Bed Grade  patientid  City_Code_Patient  \\\n",
      "0         S                  A        2.0      17006                2.0   \n",
      "1         S                  F        2.0      17006                2.0   \n",
      "2         Q                  D        4.0      17006                2.0   \n",
      "3         Q                  F        2.0      17006                2.0   \n",
      "4         R                  F        2.0      17006                2.0   \n",
      "\n",
      "  Type of Admission Severity of Illness  Visitors with Patient    Age  \\\n",
      "0         Emergency            Moderate                      2  71-80   \n",
      "1            Trauma            Moderate                      4  71-80   \n",
      "2         Emergency            Moderate                      3  71-80   \n",
      "3            Trauma            Moderate                      3  71-80   \n",
      "4            Trauma            Moderate                      4  71-80   \n",
      "\n",
      "   Admission_Deposit  \n",
      "0             3095.0  \n",
      "1             4018.0  \n",
      "2             4492.0  \n",
      "3             4173.0  \n",
      "4             4161.0  \n"
     ]
    }
   ],
   "source": [
    "print(\"\\nFirst 5 rows of Train Dataset:\")\n",
    "print(df_train.head())\n",
    "\n",
    "print(\"\\nFirst 5 rows of Test Dataset:\")\n",
    "print(df_test.head())"
   ]
  },
  {
   "cell_type": "code",
   "execution_count": 13,
   "metadata": {
    "colab": {
     "base_uri": "https://localhost:8080/"
    },
    "executionInfo": {
     "elapsed": 195,
     "status": "ok",
     "timestamp": 1740340209165,
     "user": {
      "displayName": "Mahmoud Shawki",
      "userId": "09576335414561283234"
     },
     "user_tz": -120
    },
    "id": "QfwSZMLGW9oc",
    "outputId": "b9b12980-d0c9-4655-e864-c76fea09aef4"
   },
   "outputs": [
    {
     "name": "stdout",
     "output_type": "stream",
     "text": [
      "\n",
      "Missing Values in Train Dataset:\n",
      "case_id                                 0\n",
      "Hospital_code                           0\n",
      "Hospital_type_code                      0\n",
      "City_Code_Hospital                      0\n",
      "Hospital_region_code                    0\n",
      "Available Extra Rooms in Hospital       0\n",
      "Department                              0\n",
      "Ward_Type                               0\n",
      "Ward_Facility_Code                      0\n",
      "Bed Grade                             113\n",
      "patientid                               0\n",
      "City_Code_Patient                    4532\n",
      "Type of Admission                       0\n",
      "Severity of Illness                     0\n",
      "Visitors with Patient                   0\n",
      "Age                                     0\n",
      "Admission_Deposit                       0\n",
      "Stay                                    0\n",
      "dtype: int64\n",
      "\n",
      "Missing Values in Test Dataset:\n",
      "case_id                                 0\n",
      "Hospital_code                           0\n",
      "Hospital_type_code                      0\n",
      "City_Code_Hospital                      0\n",
      "Hospital_region_code                    0\n",
      "Available Extra Rooms in Hospital       0\n",
      "Department                              0\n",
      "Ward_Type                               0\n",
      "Ward_Facility_Code                      0\n",
      "Bed Grade                              35\n",
      "patientid                               0\n",
      "City_Code_Patient                    2157\n",
      "Type of Admission                       0\n",
      "Severity of Illness                     0\n",
      "Visitors with Patient                   0\n",
      "Age                                     0\n",
      "Admission_Deposit                       0\n",
      "dtype: int64\n"
     ]
    }
   ],
   "source": [
    "print(\"\\nMissing Values in Train Dataset:\")\n",
    "print(df_train.isnull().sum())\n",
    "\n",
    "print(\"\\nMissing Values in Test Dataset:\")\n",
    "print(df_test.isnull().sum())"
   ]
  },
  {
   "cell_type": "code",
   "execution_count": null,
   "metadata": {},
   "outputs": [],
   "source": [
    "git --version\n"
   ]
  }
 ],
 "metadata": {
  "colab": {
   "authorship_tag": "ABX9TyOwxoQ9y9YBRjo7cSAJQ5WC",
   "provenance": []
  },
  "kernelspec": {
   "display_name": "Python 3",
   "name": "python3"
  },
  "language_info": {
   "codemirror_mode": {
    "name": "ipython",
    "version": 3
   },
   "file_extension": ".py",
   "mimetype": "text/x-python",
   "name": "python",
   "nbconvert_exporter": "python",
   "pygments_lexer": "ipython3",
   "version": "3.13.0"
  }
 },
 "nbformat": 4,
 "nbformat_minor": 0
}
